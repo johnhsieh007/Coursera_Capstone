{
 "cells": [
  {
   "cell_type": "markdown",
   "metadata": {},
   "source": [
    "<h1 align=center><font size = 5>Toronto Neighborhoods Data Scraping and Dataframe Generation</font></h1>\n",
    "\n",
    "## Introduction\n",
    "\n",
    "\n",
    "In this assignment I explore the neighborhoods in the city of Toronto. However, the neighborhood data though is not readily available on the internet.\n",
    "\n",
    "For the Toronto neighborhood data, a Wikipedia page: https://en.wikipedia.org/wiki/List_of_postal_codes_of_Canada:_M exists that has all the information we need to explore and cluster the neighborhoods in Toronto. We will have to scrape the Wikipedia page and wrangle the data, clean it, and then read it into a pandas dataframe so that it is in a structured format.\n",
    "\n",
    "We build the code to scrape the following Wikipedia page, https://en.wikipedia.org/wiki/List_of_postal_codes_of_Canada:_M, in order to obtain the data that is in the table of postal codes and to transform the data into a pandas dataframe.\n",
    "\n",
    "The dataframe will consist of three columns: PostalCode, Borough, and Neighborhood. We only process the cells that have an assigned borough. We ignore cells with a borough that is Not assigned. More than one neighborhood can exist in one postal code area. For example, in the table on the Wikipedia page, you will notice that M5A is listed twice and has two neighborhoods: Harbourfront and Regent Park. These two rows will be combined into one row with the neighborhoods separated with a comma. If a cell has a borough but a Not assigned neighborhood, then the neighborhood will be the same as the borough. So for the 9th cell in the table on the Wikipedia page, the value of the Borough and the Neighborhood columns will be Queen's Park.\n",
    "\n",
    "There are different website scraping libraries and packages in Python. One of the most common packages is BeautifulSoup and we will use it in this project. Package's main documentation page: http://beautiful-soup-4.readthedocs.io/en/latest/\n",
    "\n",
    "Before we get the data and start exploring it, let's download all the dependencies that we will need."
   ]
  },
  {
   "cell_type": "code",
   "execution_count": 25,
   "metadata": {},
   "outputs": [
    {
     "name": "stdout",
     "output_type": "stream",
     "text": [
      "Libraries imported.\n"
     ]
    }
   ],
   "source": [
    "import numpy as np # library to handle data in a vectorized manner\n",
    "import pandas as pd # library for data analsysis\n",
    "pd.set_option('display.max_columns', None)\n",
    "pd.set_option('display.max_rows', None)\n",
    "import json # library to handle JSON files\n",
    "#!conda install -c conda-forge geopy --yes # uncomment this line if you haven't completed the Foursquare API lab\n",
    "from geopy.geocoders import Nominatim # convert an address into latitude and longitude values\n",
    "import requests # library to handle requests\n",
    "from pandas.io.json import json_normalize # tranform JSON file into a pandas dataframe\n",
    "# Matplotlib and associated plotting modules\n",
    "import matplotlib.cm as cm\n",
    "import matplotlib.colors as colors\n",
    "# import k-means from clustering stage\n",
    "from sklearn.cluster import KMeans\n",
    "from sklearn.datasets.samples_generator import make_blobs\n",
    "#!conda install -c conda-forge folium=0.5.0 --yes # uncomment this line if you haven't completed the Foursquare API lab\n",
    "import folium # map rendering library\n",
    "from bs4 import BeautifulSoup\n",
    "import lxml\n",
    "print('Libraries imported.')"
   ]
  },
  {
   "cell_type": "markdown",
   "metadata": {},
   "source": [
    "<h1 align=left><font size = 5>1. Download, scrape and wrangle</font></h1>"
   ]
  },
  {
   "cell_type": "code",
   "execution_count": 26,
   "metadata": {},
   "outputs": [
    {
     "data": {
      "text/html": [
       "<div>\n",
       "<style scoped>\n",
       "    .dataframe tbody tr th:only-of-type {\n",
       "        vertical-align: middle;\n",
       "    }\n",
       "\n",
       "    .dataframe tbody tr th {\n",
       "        vertical-align: top;\n",
       "    }\n",
       "\n",
       "    .dataframe thead th {\n",
       "        text-align: right;\n",
       "    }\n",
       "</style>\n",
       "<table border=\"1\" class=\"dataframe\">\n",
       "  <thead>\n",
       "    <tr style=\"text-align: right;\">\n",
       "      <th></th>\n",
       "      <th>Postcode</th>\n",
       "      <th>Borough</th>\n",
       "      <th>Neighborhood</th>\n",
       "    </tr>\n",
       "  </thead>\n",
       "  <tbody>\n",
       "    <tr>\n",
       "      <th>0</th>\n",
       "      <td>M3A</td>\n",
       "      <td>North York</td>\n",
       "      <td>Parkwoods</td>\n",
       "    </tr>\n",
       "    <tr>\n",
       "      <th>1</th>\n",
       "      <td>M4A</td>\n",
       "      <td>North York</td>\n",
       "      <td>Victoria Village</td>\n",
       "    </tr>\n",
       "    <tr>\n",
       "      <th>2</th>\n",
       "      <td>M5A</td>\n",
       "      <td>Downtown Toronto</td>\n",
       "      <td>Harbourfront , Regent Park</td>\n",
       "    </tr>\n",
       "    <tr>\n",
       "      <th>3</th>\n",
       "      <td>M6A</td>\n",
       "      <td>North York</td>\n",
       "      <td>Lawrence Manor, Lawrence Heights</td>\n",
       "    </tr>\n",
       "    <tr>\n",
       "      <th>4</th>\n",
       "      <td>M7A</td>\n",
       "      <td>Queen's Park (Toronto)</td>\n",
       "      <td>Queen's Park</td>\n",
       "    </tr>\n",
       "  </tbody>\n",
       "</table>\n",
       "</div>"
      ],
      "text/plain": [
       "  Postcode                 Borough                      Neighborhood\n",
       "0      M3A              North York                         Parkwoods\n",
       "1      M4A              North York                  Victoria Village\n",
       "2      M5A        Downtown Toronto        Harbourfront , Regent Park\n",
       "3      M6A              North York  Lawrence Manor, Lawrence Heights\n",
       "4      M7A  Queen's Park (Toronto)                     Queen's Park "
      ]
     },
     "execution_count": 26,
     "metadata": {},
     "output_type": "execute_result"
    }
   ],
   "source": [
    "# download data and parse it:\n",
    "results = requests.get('https://en.wikipedia.org/wiki/List_of_postal_codes_of_Canada:_M')\n",
    "soup = BeautifulSoup(results.text, 'html.parser')\n",
    "table=soup.find('table', class_='wikitable sortable')\n",
    "\n",
    "#get headers:\n",
    "headers=table.findAll('th')\n",
    "for i, head in enumerate(headers): headers[i]=str(headers[i]).replace(\"<th>\",\"\").replace(\"</th>\",\"\").replace(\"\\n\",\"\")\n",
    "\n",
    "#Find all items and skip first one:\n",
    "rows=table.findAll('tr')\n",
    "rows=rows[1:len(rows)]\n",
    "\n",
    "# skip all meta symbols and line feeds between rows:\n",
    "for i, row in enumerate(rows): rows[i] = str(rows[i]).replace(\"\\n</td></tr>\",\"\").replace(\"<tr>\\n<td>\",\"\")\n",
    "\n",
    "# make dataframe, expand rows and drop the old one:\n",
    "df=pd.DataFrame(rows)\n",
    "df[headers] = df[0].str.split(\"</td>\\n<td>\", n = 2, expand = True) \n",
    "df.drop(columns=[0],inplace=True)\n",
    "\n",
    "# skip not assigned boroughs:\n",
    "df = df.drop(df[(df.Borough == \"Not assigned\")].index)\n",
    "# give \"Not assigned\" Neighborhoods same name as Borough:\n",
    "df.Neighbourhood.replace(\"Not assigned\", df.Borough, inplace=True)\n",
    "\n",
    "# copy Borough value to Neighborhood if NaN:\n",
    "df.Neighbourhood.fillna(df.Borough, inplace=True)\n",
    "# drop duplicate rows:\n",
    "df=df.drop_duplicates()\n",
    "\n",
    "# extract titles from columns\n",
    "df.update(\n",
    "    df.Neighbourhood.loc[\n",
    "        lambda x: x.str.contains('title')\n",
    "    ].str.extract('title=\\\"([^\\\"]*)',expand=False))\n",
    "\n",
    "df.update(\n",
    "    df.Borough.loc[\n",
    "        lambda x: x.str.contains('title')\n",
    "    ].str.extract('title=\\\"([^\\\"]*)',expand=False))\n",
    "\n",
    "# delete Toronto annotation from Neighbourhood:\n",
    "df.update(\n",
    "    df.Neighbourhood.loc[\n",
    "        lambda x: x.str.contains('Toronto')\n",
    "    ].str.replace(\", Toronto\",\"\"))\n",
    "df.update(\n",
    "    df.Neighbourhood.loc[\n",
    "        lambda x: x.str.contains('Toronto')\n",
    "    ].str.replace(\"\\(Toronto\\)\",\"\"))\n",
    "\n",
    "\n",
    "# combine multiple neighborhoods with the same post code\n",
    "df2 = pd.DataFrame({'Postcode':df.Postcode.unique()})\n",
    "df2['Borough']=pd.DataFrame(list(set(df['Borough'].loc[df['Postcode'] == x['Postcode']])) for i, x in df2.iterrows())\n",
    "df2['Neighborhood']=pd.Series(list(set(df['Neighbourhood'].loc[df['Postcode'] == x['Postcode']])) for i, x in df2.iterrows())\n",
    "df2['Neighborhood']=df2['Neighborhood'].apply(lambda x: ', '.join(x))\n",
    "df2.dtypes\n",
    "\n",
    "df2.head()"
   ]
  },
  {
   "cell_type": "code",
   "execution_count": 27,
   "metadata": {},
   "outputs": [
    {
     "data": {
      "text/plain": [
       "(103, 3)"
      ]
     },
     "execution_count": 27,
     "metadata": {},
     "output_type": "execute_result"
    }
   ],
   "source": [
    "df2.shape"
   ]
  },
  {
   "cell_type": "code",
   "execution_count": null,
   "metadata": {},
   "outputs": [],
   "source": []
  }
 ],
 "metadata": {
  "kernelspec": {
   "display_name": "Python 3",
   "language": "python",
   "name": "python3"
  },
  "language_info": {
   "codemirror_mode": {
    "name": "ipython",
    "version": 3
   },
   "file_extension": ".py",
   "mimetype": "text/x-python",
   "name": "python",
   "nbconvert_exporter": "python",
   "pygments_lexer": "ipython3",
   "version": "3.6.8"
  }
 },
 "nbformat": 4,
 "nbformat_minor": 2
}
