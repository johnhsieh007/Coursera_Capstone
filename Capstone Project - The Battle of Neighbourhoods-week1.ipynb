{
 "cells": [
  {
   "cell_type": "markdown",
   "metadata": {},
   "source": [
    "<h1 align=center><font size = 8>Capstone Project: The Battle of Neighbourhoods - Week #1</font></h1>\n",
    "\n",
    "<h2 align=left><font size = 6>1. Introduction</font></h2>\n",
    "\n",
    "<h3 align=left><font size = 5>1.1 Description of the Problem</font></h3>\n",
    "\n",
    "There are many practical questions that require the comparison across city neighborhoods. For example, a job seeker with transferable skills may wish to focus his/her search on a single neighborhood with jobs that best match his/her qualifications, rather than dispersing his/her search efforts across multiple neighborhoods. Likewise, a restaurant looking to expand its locations might perhaps select neighborhoods it wishes to expand into before considering particular sites or neighborhoods. Additionally, many within-city computations might be aided by modelling a neighborhood’s relationship to other neighborhoods. For example, a person buying or renting a home in a new city might want to be able to compare the neighborhoods of the city.\n",
    "\n",
    "<h3 align=left><font size = 5>1.2 Objective</font></h3>\n",
    "Taipei City and New Taipei City are two a major cities in Taiwan. Both cities have been centers of attention for residential, job employment, tourism, education, shopping and sport activities. Both municipalities located in the north of Taiwan with New Taipei City surrounds Taipei City. The aim of this project is to segment both cities' neighborhoods based on data collected from Foursquare about venue categories in totally 41 neighborhoods across the cities. Using segmentation and clustering, I hope I can determine:  \n",
    "\n",
    "\n",
    "1. the similarity or dissimilarity between neighborhoods.\n",
    "2. classification of a neighborhood inside a city whether it is residential, tourism places, or others."
   ]
  },
  {
   "cell_type": "markdown",
   "metadata": {},
   "source": [
    "<h2 align=left><font size = 6>2. Data</font></h2>\n",
    "\n",
    "<h3 align=left><font size = 5>2.1 Description of Data</font></h3>\n",
    "\n",
    "This project will rely on public data from websites and Foursquare."
   ]
  },
  {
   "cell_type": "code",
   "execution_count": 1,
   "metadata": {},
   "outputs": [
    {
     "name": "stdout",
     "output_type": "stream",
     "text": [
      "Libraries imported.\n"
     ]
    }
   ],
   "source": [
    "import numpy as np # library to handle data in a vectorized manner\n",
    "import pandas as pd # library for data analsysis\n",
    "pd.set_option('display.max_columns', None)\n",
    "pd.set_option('display.max_rows', None)\n",
    "import json # library to handle JSON files\n",
    "#!conda install -c conda-forge geopy --yes # uncomment this line if you haven't completed the Foursquare API lab\n",
    "from geopy.geocoders import Nominatim # convert an address into latitude and longitude values\n",
    "import requests # library to handle requests\n",
    "from pandas.io.json import json_normalize # tranform JSON file into a pandas dataframe\n",
    "# Matplotlib and associated plotting modules\n",
    "import matplotlib.cm as cm\n",
    "import matplotlib.colors as colors\n",
    "# import k-means from clustering stage\n",
    "from sklearn.cluster import KMeans\n",
    "from sklearn.datasets.samples_generator import make_blobs\n",
    "#!conda install -c conda-forge folium=0.5.0 --yes # uncomment this line if you haven't completed the Foursquare API lab\n",
    "import folium # map rendering library\n",
    "from bs4 import BeautifulSoup\n",
    "import lxml\n",
    "print('Libraries imported.')"
   ]
  },
  {
   "cell_type": "markdown",
   "metadata": {},
   "source": [
    "<h1 align=left><font size = 5>1. Download, scrape and wrangle</font></h1>"
   ]
  },
  {
   "cell_type": "markdown",
   "metadata": {},
   "source": [
    "There are totally 2 boroughs and 41 neighborhoods in both Taipei City and New Taipei City. In order to segement the neighborhoods and explore them, we will essentially need a dataset that contains the 2 boroughs and the neighborhoods that exist in each borough as well as the latitude and logitude coordinates of each neighborhood. \n",
    "\n",
    "Luckily, these datasets exist for free on the web."
   ]
  },
  {
   "cell_type": "markdown",
   "metadata": {},
   "source": [
    "### A. City Data"
   ]
  },
  {
   "cell_type": "markdown",
   "metadata": {},
   "source": [
    "First, setup urls which contain JSON files for both cities."
   ]
  },
  {
   "cell_type": "code",
   "execution_count": 2,
   "metadata": {},
   "outputs": [],
   "source": [
    "# JSON file urls\n",
    "url_dict={'Taipei City': 'https://github.com/comdan66/TaipeiTowns/tree/master/towns/%E5%8F%B0%E5%8C%97%E5%B8%82', \n",
    "          'New Taipei City': 'https://github.com/comdan66/TaipeiTowns/tree/master/towns/%E6%96%B0%E5%8C%97%E5%B8%82'}\n"
   ]
  },
  {
   "cell_type": "markdown",
   "metadata": {},
   "source": [
    "Next, make a dictionary as a lookup table for neighborhood name translation from Chinese to English."
   ]
  },
  {
   "cell_type": "code",
   "execution_count": 3,
   "metadata": {},
   "outputs": [
    {
     "data": {
      "text/plain": [
       "{'中山區': 'Zhongshan',\n",
       " '中正區': 'Zhongzheng',\n",
       " '信義區': 'Xinyi',\n",
       " '內湖區': 'Neihu',\n",
       " '北投區': 'Beitou',\n",
       " '南港區': 'Nangang',\n",
       " '士林區': 'Shilin',\n",
       " '大同區': 'Datong',\n",
       " '大安區': 'Daan',\n",
       " '文山區': 'Wenshan',\n",
       " '松山區': 'Songshan',\n",
       " '萬華區': 'Wanhua',\n",
       " '三峽區': 'Sanxia',\n",
       " '三芝區': 'Sanjhih',\n",
       " '三重區': 'Sanchong',\n",
       " '中和區': 'Zhonghe',\n",
       " '五股區': 'Wugu',\n",
       " '八里區': 'Bali',\n",
       " '土城區': 'Tucheng',\n",
       " '坪林區': 'Pinglin',\n",
       " '平溪區': 'Pingxi',\n",
       " '新店區': 'Xindian',\n",
       " '新莊區': 'Xinzhuang',\n",
       " '板橋區': 'Banqiao',\n",
       " '林口區': 'Linkou',\n",
       " '樹林區': 'Shulin',\n",
       " '永和區': 'Yonghe',\n",
       " '汐止區': 'Xizhi',\n",
       " '泰山區': 'Taishan',\n",
       " '淡水區': 'Tamsui',\n",
       " '深坑區': 'Shenkeng',\n",
       " '烏來區': 'Wulai',\n",
       " '瑞芳區': 'Rueifang',\n",
       " '石碇區': 'Shiding',\n",
       " '石門區': 'Shimen',\n",
       " '萬里區': 'Wanli',\n",
       " '蘆洲區': 'Luzhou',\n",
       " '貢寮區': 'Gongliao',\n",
       " '金山區': 'Jinshan',\n",
       " '雙溪區': 'Shuangxi',\n",
       " '鶯歌區': 'Yingge'}"
      ]
     },
     "execution_count": 3,
     "metadata": {},
     "output_type": "execute_result"
    }
   ],
   "source": [
    "neighbor_dict={'中山區': 'Zhongshan', '中正區': 'Zhongzheng', '信義區': 'Xinyi', '內湖區': 'Neihu', '北投區': 'Beitou', \n",
    "               '南港區': 'Nangang', '士林區': 'Shilin', '大同區': 'Datong', '大安區': 'Daan', '文山區': 'Wenshan', '松山區': 'Songshan',\n",
    "               '萬華區': 'Wanhua',  '三峽區': 'Sanxia', '三芝區': 'Sanjhih', '三重區': 'Sanchong', '中和區': 'Zhonghe', '五股區': 'Wugu',\n",
    "               '八里區': 'Bali', '土城區': 'Tucheng', '坪林區': 'Pinglin', '平溪區': 'Pingxi', '新店區': 'Xindian', '新莊區': 'Xinzhuang',\n",
    "               '板橋區': 'Banqiao', '林口區': 'Linkou', '樹林區': 'Shulin', '永和區': 'Yonghe', '汐止區': 'Xizhi', '泰山區': 'Taishan',\n",
    "               '淡水區': 'Tamsui', '深坑區': 'Shenkeng', '烏來區': 'Wulai', '瑞芳區': 'Rueifang', '石碇區': 'Shiding', '石門區': 'Shimen',\n",
    "               '萬里區': 'Wanli', '蘆洲區': 'Luzhou', '貢寮區': 'Gongliao', '金山區': 'Jinshan', '雙溪區': 'Shuangxi', '鶯歌區': 'Yingge'}\n",
    "neighbor_dict"
   ]
  },
  {
   "cell_type": "markdown",
   "metadata": {},
   "source": [
    "Now, let's retrieve Geo-spatial data from websites in order to explore city venues with Foursquare.\n",
    "\n",
    "As the websites contain only neighborhood boundary Geo-spatial data, so we need to calculate neighborhood center latitude and longitude values by averaging the retrieved boundary data."
   ]
  },
  {
   "cell_type": "code",
   "execution_count": 4,
   "metadata": {},
   "outputs": [],
   "source": [
    "root='https://github.com'"
   ]
  },
  {
   "cell_type": "code",
   "execution_count": 5,
   "metadata": {},
   "outputs": [],
   "source": [
    "# Define function for retrieving Geo-spatial data\n",
    "\n",
    "def get_geo(city, url, df):\n",
    "    results = requests.get(url)\n",
    "    soup = BeautifulSoup(results.text, 'html.parser')\n",
    "    table=soup.find('table')\n",
    "    url_strings=table.findAll('span', class_=\"css-truncate css-truncate-target\")\n",
    "    \n",
    "    # Get neighborhood json file urls and neighborhood names\n",
    "    url_list=[]\n",
    "    neighbor_list=[]\n",
    "\n",
    "    for i in range(0,len(url_strings),3):\n",
    "        url_list.append(root + url_strings[i].a['href'])\n",
    "        neighbor_list.append(neighbor_dict[url_strings[i].text.replace('.json','')])\n",
    "        \n",
    "    # Get neighborhood boundary latitude and longtitude\n",
    "    geo_list=[]\n",
    "\n",
    "    for i in range(0,len(url_list)):\n",
    "        geo=[]\n",
    "        url=url_list[i]\n",
    "        results = requests.get(url)\n",
    "        soup = BeautifulSoup(results.text, 'html.parser')\n",
    "        table=soup.find('table', class_='highlight tab-size js-file-line-container')\n",
    "        rows=table.findAll('tr')\n",
    "\n",
    "        location = 'LC'\n",
    "\n",
    "        for j in range(2,len(rows)-1):\n",
    "            id=location+str(j+1)\n",
    "            data=rows[j].find(id=id).text\n",
    "\n",
    "            data=data.lstrip(' [').rstrip('], ').split(', ')\n",
    "            data[0]=float(data[0])\n",
    "            data[1]=float(data[1])\n",
    "            geo.append(data)\n",
    "            \n",
    "        # Calculate neighborhood center latitude and longitude values by averaging the boundary data\n",
    "        geo = pd.DataFrame(geo).mean().to_list()\n",
    "\n",
    "        # Fill the dataframe with data\n",
    "        df = df.append({'Borough': city,\n",
    "                        'Neighborhood': neighbor_list[i],\n",
    "                        'Latitude': geo[0],\n",
    "                        'Longitude': geo[1]}, ignore_index=True)\n",
    "    return(df)"
   ]
  },
  {
   "cell_type": "markdown",
   "metadata": {},
   "source": [
    "The next task is essentially transforming Geo-spatial data into a *pandas* dataframe. So let's start by creating an empty dataframe."
   ]
  },
  {
   "cell_type": "code",
   "execution_count": 6,
   "metadata": {},
   "outputs": [],
   "source": [
    "# define the dataframe columns\n",
    "columns=['Borough', 'Neighborhood', 'Latitude', 'Longitude']\n",
    "\n",
    "# instantiate the dataframe\n",
    "geo_data=pd.DataFrame(columns=columns)"
   ]
  },
  {
   "cell_type": "markdown",
   "metadata": {},
   "source": [
    "Take a look at the empty dataframe to confirm that the columns are as intended."
   ]
  },
  {
   "cell_type": "code",
   "execution_count": 7,
   "metadata": {
    "collapsed": false
   },
   "outputs": [
    {
     "data": {
      "text/html": [
       "<div>\n",
       "<style scoped>\n",
       "    .dataframe tbody tr th:only-of-type {\n",
       "        vertical-align: middle;\n",
       "    }\n",
       "\n",
       "    .dataframe tbody tr th {\n",
       "        vertical-align: top;\n",
       "    }\n",
       "\n",
       "    .dataframe thead th {\n",
       "        text-align: right;\n",
       "    }\n",
       "</style>\n",
       "<table border=\"1\" class=\"dataframe\">\n",
       "  <thead>\n",
       "    <tr style=\"text-align: right;\">\n",
       "      <th></th>\n",
       "      <th>Borough</th>\n",
       "      <th>Neighborhood</th>\n",
       "      <th>Latitude</th>\n",
       "      <th>Longitude</th>\n",
       "    </tr>\n",
       "  </thead>\n",
       "  <tbody>\n",
       "  </tbody>\n",
       "</table>\n",
       "</div>"
      ],
      "text/plain": [
       "Empty DataFrame\n",
       "Columns: [Borough, Neighborhood, Latitude, Longitude]\n",
       "Index: []"
      ]
     },
     "execution_count": 7,
     "metadata": {},
     "output_type": "execute_result"
    }
   ],
   "source": [
    "geo_data"
   ]
  },
  {
   "cell_type": "markdown",
   "metadata": {},
   "source": [
    "Then let's loop through the websites to retrieve Geo-spatial data and fill the dataframe with data."
   ]
  },
  {
   "cell_type": "code",
   "execution_count": 8,
   "metadata": {},
   "outputs": [
    {
     "data": {
      "text/html": [
       "<div>\n",
       "<style scoped>\n",
       "    .dataframe tbody tr th:only-of-type {\n",
       "        vertical-align: middle;\n",
       "    }\n",
       "\n",
       "    .dataframe tbody tr th {\n",
       "        vertical-align: top;\n",
       "    }\n",
       "\n",
       "    .dataframe thead th {\n",
       "        text-align: right;\n",
       "    }\n",
       "</style>\n",
       "<table border=\"1\" class=\"dataframe\">\n",
       "  <thead>\n",
       "    <tr style=\"text-align: right;\">\n",
       "      <th></th>\n",
       "      <th>Borough</th>\n",
       "      <th>Neighborhood</th>\n",
       "      <th>Latitude</th>\n",
       "      <th>Longitude</th>\n",
       "    </tr>\n",
       "  </thead>\n",
       "  <tbody>\n",
       "    <tr>\n",
       "      <th>0</th>\n",
       "      <td>Taipei City</td>\n",
       "      <td>Zhongshan</td>\n",
       "      <td>25.071279</td>\n",
       "      <td>121.537923</td>\n",
       "    </tr>\n",
       "    <tr>\n",
       "      <th>1</th>\n",
       "      <td>Taipei City</td>\n",
       "      <td>Zhongzheng</td>\n",
       "      <td>25.031602</td>\n",
       "      <td>121.518729</td>\n",
       "    </tr>\n",
       "    <tr>\n",
       "      <th>2</th>\n",
       "      <td>Taipei City</td>\n",
       "      <td>Xinyi</td>\n",
       "      <td>25.030042</td>\n",
       "      <td>121.573207</td>\n",
       "    </tr>\n",
       "    <tr>\n",
       "      <th>3</th>\n",
       "      <td>Taipei City</td>\n",
       "      <td>Neihu</td>\n",
       "      <td>25.081642</td>\n",
       "      <td>121.595610</td>\n",
       "    </tr>\n",
       "    <tr>\n",
       "      <th>4</th>\n",
       "      <td>Taipei City</td>\n",
       "      <td>Beitou</td>\n",
       "      <td>25.151112</td>\n",
       "      <td>121.522906</td>\n",
       "    </tr>\n",
       "    <tr>\n",
       "      <th>5</th>\n",
       "      <td>Taipei City</td>\n",
       "      <td>Nangang</td>\n",
       "      <td>25.033550</td>\n",
       "      <td>121.620147</td>\n",
       "    </tr>\n",
       "    <tr>\n",
       "      <th>6</th>\n",
       "      <td>Taipei City</td>\n",
       "      <td>Shilin</td>\n",
       "      <td>25.128001</td>\n",
       "      <td>121.547409</td>\n",
       "    </tr>\n",
       "    <tr>\n",
       "      <th>7</th>\n",
       "      <td>Taipei City</td>\n",
       "      <td>Datong</td>\n",
       "      <td>25.060159</td>\n",
       "      <td>121.512601</td>\n",
       "    </tr>\n",
       "    <tr>\n",
       "      <th>8</th>\n",
       "      <td>Taipei City</td>\n",
       "      <td>Daan</td>\n",
       "      <td>25.021382</td>\n",
       "      <td>121.546949</td>\n",
       "    </tr>\n",
       "    <tr>\n",
       "      <th>9</th>\n",
       "      <td>Taipei City</td>\n",
       "      <td>Wenshan</td>\n",
       "      <td>24.987646</td>\n",
       "      <td>121.576226</td>\n",
       "    </tr>\n",
       "    <tr>\n",
       "      <th>10</th>\n",
       "      <td>Taipei City</td>\n",
       "      <td>Songshan</td>\n",
       "      <td>25.059984</td>\n",
       "      <td>121.559426</td>\n",
       "    </tr>\n",
       "    <tr>\n",
       "      <th>11</th>\n",
       "      <td>Taipei City</td>\n",
       "      <td>Wanhua</td>\n",
       "      <td>25.028674</td>\n",
       "      <td>121.499644</td>\n",
       "    </tr>\n",
       "    <tr>\n",
       "      <th>12</th>\n",
       "      <td>New Taipei City</td>\n",
       "      <td>Sanxia</td>\n",
       "      <td>24.898329</td>\n",
       "      <td>121.427832</td>\n",
       "    </tr>\n",
       "    <tr>\n",
       "      <th>13</th>\n",
       "      <td>New Taipei City</td>\n",
       "      <td>Sanjhih</td>\n",
       "      <td>25.237011</td>\n",
       "      <td>121.512522</td>\n",
       "    </tr>\n",
       "    <tr>\n",
       "      <th>14</th>\n",
       "      <td>New Taipei City</td>\n",
       "      <td>Sanchong</td>\n",
       "      <td>25.069325</td>\n",
       "      <td>121.479467</td>\n",
       "    </tr>\n",
       "    <tr>\n",
       "      <th>15</th>\n",
       "      <td>New Taipei City</td>\n",
       "      <td>Zhonghe</td>\n",
       "      <td>24.995833</td>\n",
       "      <td>121.496428</td>\n",
       "    </tr>\n",
       "    <tr>\n",
       "      <th>16</th>\n",
       "      <td>New Taipei City</td>\n",
       "      <td>Wugu</td>\n",
       "      <td>25.097071</td>\n",
       "      <td>121.426743</td>\n",
       "    </tr>\n",
       "    <tr>\n",
       "      <th>17</th>\n",
       "      <td>New Taipei City</td>\n",
       "      <td>Bali</td>\n",
       "      <td>25.123359</td>\n",
       "      <td>121.409025</td>\n",
       "    </tr>\n",
       "    <tr>\n",
       "      <th>18</th>\n",
       "      <td>New Taipei City</td>\n",
       "      <td>Tucheng</td>\n",
       "      <td>24.975499</td>\n",
       "      <td>121.455822</td>\n",
       "    </tr>\n",
       "    <tr>\n",
       "      <th>19</th>\n",
       "      <td>New Taipei City</td>\n",
       "      <td>Pinglin</td>\n",
       "      <td>24.916267</td>\n",
       "      <td>121.720889</td>\n",
       "    </tr>\n",
       "    <tr>\n",
       "      <th>20</th>\n",
       "      <td>New Taipei City</td>\n",
       "      <td>Pingxi</td>\n",
       "      <td>25.024113</td>\n",
       "      <td>121.761748</td>\n",
       "    </tr>\n",
       "    <tr>\n",
       "      <th>21</th>\n",
       "      <td>New Taipei City</td>\n",
       "      <td>Xindian</td>\n",
       "      <td>24.954030</td>\n",
       "      <td>121.528481</td>\n",
       "    </tr>\n",
       "    <tr>\n",
       "      <th>22</th>\n",
       "      <td>New Taipei City</td>\n",
       "      <td>Xinzhuang</td>\n",
       "      <td>25.032061</td>\n",
       "      <td>121.429445</td>\n",
       "    </tr>\n",
       "    <tr>\n",
       "      <th>23</th>\n",
       "      <td>New Taipei City</td>\n",
       "      <td>Banqiao</td>\n",
       "      <td>25.000650</td>\n",
       "      <td>121.458193</td>\n",
       "    </tr>\n",
       "    <tr>\n",
       "      <th>24</th>\n",
       "      <td>New Taipei City</td>\n",
       "      <td>Linkou</td>\n",
       "      <td>25.088119</td>\n",
       "      <td>121.381833</td>\n",
       "    </tr>\n",
       "    <tr>\n",
       "      <th>25</th>\n",
       "      <td>New Taipei City</td>\n",
       "      <td>Shulin</td>\n",
       "      <td>24.990780</td>\n",
       "      <td>121.396556</td>\n",
       "    </tr>\n",
       "    <tr>\n",
       "      <th>26</th>\n",
       "      <td>New Taipei City</td>\n",
       "      <td>Yonghe</td>\n",
       "      <td>25.001182</td>\n",
       "      <td>121.514755</td>\n",
       "    </tr>\n",
       "    <tr>\n",
       "      <th>27</th>\n",
       "      <td>New Taipei City</td>\n",
       "      <td>Xizhi</td>\n",
       "      <td>25.075555</td>\n",
       "      <td>121.654192</td>\n",
       "    </tr>\n",
       "    <tr>\n",
       "      <th>28</th>\n",
       "      <td>New Taipei City</td>\n",
       "      <td>Taishan</td>\n",
       "      <td>25.057488</td>\n",
       "      <td>121.403610</td>\n",
       "    </tr>\n",
       "    <tr>\n",
       "      <th>29</th>\n",
       "      <td>New Taipei City</td>\n",
       "      <td>Tamsui</td>\n",
       "      <td>25.191310</td>\n",
       "      <td>121.474079</td>\n",
       "    </tr>\n",
       "    <tr>\n",
       "      <th>30</th>\n",
       "      <td>New Taipei City</td>\n",
       "      <td>Shenkeng</td>\n",
       "      <td>25.001917</td>\n",
       "      <td>121.619353</td>\n",
       "    </tr>\n",
       "    <tr>\n",
       "      <th>31</th>\n",
       "      <td>New Taipei City</td>\n",
       "      <td>Wulai</td>\n",
       "      <td>24.808799</td>\n",
       "      <td>121.564709</td>\n",
       "    </tr>\n",
       "    <tr>\n",
       "      <th>32</th>\n",
       "      <td>New Taipei City</td>\n",
       "      <td>Rueifang</td>\n",
       "      <td>25.101994</td>\n",
       "      <td>121.820832</td>\n",
       "    </tr>\n",
       "    <tr>\n",
       "      <th>33</th>\n",
       "      <td>New Taipei City</td>\n",
       "      <td>Shiding</td>\n",
       "      <td>24.962158</td>\n",
       "      <td>121.647331</td>\n",
       "    </tr>\n",
       "    <tr>\n",
       "      <th>34</th>\n",
       "      <td>New Taipei City</td>\n",
       "      <td>Shimen</td>\n",
       "      <td>25.265176</td>\n",
       "      <td>121.553419</td>\n",
       "    </tr>\n",
       "    <tr>\n",
       "      <th>35</th>\n",
       "      <td>New Taipei City</td>\n",
       "      <td>Wanli</td>\n",
       "      <td>25.175614</td>\n",
       "      <td>121.651004</td>\n",
       "    </tr>\n",
       "    <tr>\n",
       "      <th>36</th>\n",
       "      <td>New Taipei City</td>\n",
       "      <td>Luzhou</td>\n",
       "      <td>25.086536</td>\n",
       "      <td>121.473421</td>\n",
       "    </tr>\n",
       "    <tr>\n",
       "      <th>37</th>\n",
       "      <td>New Taipei City</td>\n",
       "      <td>Gongliao</td>\n",
       "      <td>25.025535</td>\n",
       "      <td>121.921721</td>\n",
       "    </tr>\n",
       "    <tr>\n",
       "      <th>38</th>\n",
       "      <td>New Taipei City</td>\n",
       "      <td>Jinshan</td>\n",
       "      <td>25.209216</td>\n",
       "      <td>121.605943</td>\n",
       "    </tr>\n",
       "    <tr>\n",
       "      <th>39</th>\n",
       "      <td>New Taipei City</td>\n",
       "      <td>Shuangxi</td>\n",
       "      <td>24.996439</td>\n",
       "      <td>121.833502</td>\n",
       "    </tr>\n",
       "    <tr>\n",
       "      <th>40</th>\n",
       "      <td>New Taipei City</td>\n",
       "      <td>Yingge</td>\n",
       "      <td>24.964777</td>\n",
       "      <td>121.344888</td>\n",
       "    </tr>\n",
       "  </tbody>\n",
       "</table>\n",
       "</div>"
      ],
      "text/plain": [
       "            Borough Neighborhood   Latitude   Longitude\n",
       "0       Taipei City    Zhongshan  25.071279  121.537923\n",
       "1       Taipei City   Zhongzheng  25.031602  121.518729\n",
       "2       Taipei City        Xinyi  25.030042  121.573207\n",
       "3       Taipei City        Neihu  25.081642  121.595610\n",
       "4       Taipei City       Beitou  25.151112  121.522906\n",
       "5       Taipei City      Nangang  25.033550  121.620147\n",
       "6       Taipei City       Shilin  25.128001  121.547409\n",
       "7       Taipei City       Datong  25.060159  121.512601\n",
       "8       Taipei City         Daan  25.021382  121.546949\n",
       "9       Taipei City      Wenshan  24.987646  121.576226\n",
       "10      Taipei City     Songshan  25.059984  121.559426\n",
       "11      Taipei City       Wanhua  25.028674  121.499644\n",
       "12  New Taipei City       Sanxia  24.898329  121.427832\n",
       "13  New Taipei City      Sanjhih  25.237011  121.512522\n",
       "14  New Taipei City     Sanchong  25.069325  121.479467\n",
       "15  New Taipei City      Zhonghe  24.995833  121.496428\n",
       "16  New Taipei City         Wugu  25.097071  121.426743\n",
       "17  New Taipei City         Bali  25.123359  121.409025\n",
       "18  New Taipei City      Tucheng  24.975499  121.455822\n",
       "19  New Taipei City      Pinglin  24.916267  121.720889\n",
       "20  New Taipei City       Pingxi  25.024113  121.761748\n",
       "21  New Taipei City      Xindian  24.954030  121.528481\n",
       "22  New Taipei City    Xinzhuang  25.032061  121.429445\n",
       "23  New Taipei City      Banqiao  25.000650  121.458193\n",
       "24  New Taipei City       Linkou  25.088119  121.381833\n",
       "25  New Taipei City       Shulin  24.990780  121.396556\n",
       "26  New Taipei City       Yonghe  25.001182  121.514755\n",
       "27  New Taipei City        Xizhi  25.075555  121.654192\n",
       "28  New Taipei City      Taishan  25.057488  121.403610\n",
       "29  New Taipei City       Tamsui  25.191310  121.474079\n",
       "30  New Taipei City     Shenkeng  25.001917  121.619353\n",
       "31  New Taipei City        Wulai  24.808799  121.564709\n",
       "32  New Taipei City     Rueifang  25.101994  121.820832\n",
       "33  New Taipei City      Shiding  24.962158  121.647331\n",
       "34  New Taipei City       Shimen  25.265176  121.553419\n",
       "35  New Taipei City        Wanli  25.175614  121.651004\n",
       "36  New Taipei City       Luzhou  25.086536  121.473421\n",
       "37  New Taipei City     Gongliao  25.025535  121.921721\n",
       "38  New Taipei City      Jinshan  25.209216  121.605943\n",
       "39  New Taipei City     Shuangxi  24.996439  121.833502\n",
       "40  New Taipei City       Yingge  24.964777  121.344888"
      ]
     },
     "execution_count": 8,
     "metadata": {},
     "output_type": "execute_result"
    }
   ],
   "source": [
    "for city, url in url_dict.items():\n",
    "    geo_data=get_geo(city, url, geo_data)\n",
    "    \n",
    "geo_data"
   ]
  },
  {
   "cell_type": "markdown",
   "metadata": {},
   "source": [
    "Quickly examine the resulting dataframe."
   ]
  },
  {
   "cell_type": "markdown",
   "metadata": {},
   "source": [
    "And make sure that the dataset has all 5 boroughs and 306 neighborhoods."
   ]
  },
  {
   "cell_type": "code",
   "execution_count": 9,
   "metadata": {
    "collapsed": false
   },
   "outputs": [
    {
     "name": "stdout",
     "output_type": "stream",
     "text": [
      "The dataframe has 2 boroughs and 41 neighborhoods.\n",
      "The boroughs are:  {'New Taipei City', 'Taipei City'}\n"
     ]
    }
   ],
   "source": [
    "print('The dataframe has {} boroughs and {} neighborhoods.'.format(\n",
    "        len(geo_data['Borough'].unique()),\n",
    "        geo_data.shape[0]\n",
    "    )\n",
    ")\n",
    "\n",
    "print('The boroughs are: ', set(geo_data['Borough']))"
   ]
  },
  {
   "cell_type": "markdown",
   "metadata": {},
   "source": [
    "### B. City Map"
   ]
  },
  {
   "cell_type": "markdown",
   "metadata": {},
   "source": [
    "#### Use geopy library to get the latitude and longitude values of Taipei City."
   ]
  },
  {
   "cell_type": "markdown",
   "metadata": {},
   "source": [
    "In order to define an instance of the geocoder, we need to define a user_agent. We will name our agent <em>taipei_explorer</em>, as shown below."
   ]
  },
  {
   "cell_type": "code",
   "execution_count": 10,
   "metadata": {},
   "outputs": [
    {
     "name": "stdout",
     "output_type": "stream",
     "text": [
      "The geograpical coordinate of Taipei City are 25.0375198, 121.5636796.\n",
      "There are 41 neighborhoods in Taipei City and New Taipei City.\n"
     ]
    }
   ],
   "source": [
    "address = 'Taipei, Taiwan'\n",
    "\n",
    "geolocator = Nominatim(user_agent=\"taipei_explorer\")\n",
    "location = geolocator.geocode(address)\n",
    "latitude = location.latitude\n",
    "longitude = location.longitude\n",
    "print('The geograpical coordinate of Taipei City are {}, {}.'.format(latitude, longitude))\n",
    "print('There are {} neighborhoods in Taipei City and New Taipei City.'.format(geo_data.shape[0]))"
   ]
  },
  {
   "cell_type": "markdown",
   "metadata": {},
   "source": [
    "#### Create a map of Taipei City and New Taipei City with neighborhoods superimposed on top."
   ]
  },
  {
   "cell_type": "code",
   "execution_count": 11,
   "metadata": {},
   "outputs": [
    {
     "data": {
      "text/html": [
       "<div style=\"width:100%;\"><div style=\"position:relative;width:100%;height:0;padding-bottom:60%;\"><iframe src=\"data:text/html;charset=utf-8;base64,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\" style=\"position:absolute;width:100%;height:100%;left:0;top:0;border:none !important;\" allowfullscreen webkitallowfullscreen mozallowfullscreen></iframe></div></div>"
      ],
      "text/plain": [
       "<folium.folium.Map at 0x7f71c86f57f0>"
      ]
     },
     "execution_count": 11,
     "metadata": {},
     "output_type": "execute_result"
    }
   ],
   "source": [
    "# create map of Taipei City and New Taipei City using latitude and longitude values\n",
    "map_taipei = folium.Map(location=[latitude, longitude], zoom_start=11)\n",
    "\n",
    "# add markers to map\n",
    "for lat, lng, label in zip(geo_data['Latitude'], geo_data['Longitude'], geo_data['Neighborhood']):\n",
    "    label = folium.Popup(label, parse_html=True)\n",
    "    folium.CircleMarker(\n",
    "        [lat, lng],\n",
    "        radius=5,\n",
    "        popup=label,\n",
    "        color='blue',\n",
    "        fill=True,\n",
    "        fill_color='#3186cc',\n",
    "        fill_opacity=0.7,\n",
    "        parse_html=False).add_to(map_taipei)  \n",
    "    \n",
    "map_taipei"
   ]
  },
  {
   "cell_type": "code",
   "execution_count": null,
   "metadata": {},
   "outputs": [],
   "source": []
  }
 ],
 "metadata": {
  "kernelspec": {
   "display_name": "Python 3",
   "language": "python",
   "name": "python3"
  },
  "language_info": {
   "codemirror_mode": {
    "name": "ipython",
    "version": 3
   },
   "file_extension": ".py",
   "mimetype": "text/x-python",
   "name": "python",
   "nbconvert_exporter": "python",
   "pygments_lexer": "ipython3",
   "version": "3.6.8"
  }
 },
 "nbformat": 4,
 "nbformat_minor": 2
}
